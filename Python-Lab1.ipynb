{
 "cells": [
  {
   "cell_type": "code",
   "execution_count": 3,
   "id": "e4202dd5-66e3-43f0-b26d-b241fd2ec4d7",
   "metadata": {},
   "outputs": [],
   "source": [
    "season = \"winter\"\n",
    "\n",
    "x = 1\n",
    "\n",
    "y = 2.5\n",
    "\n",
    "var1 = var2 = var3 = 3\n",
    "\n",
    "var4 , var5 , var6 =  4 , 5 , 6"
   ]
  }
 ],
 "metadata": {
  "kernelspec": {
   "display_name": "Python 3 (ipykernel)",
   "language": "python",
   "name": "python3"
  },
  "language_info": {
   "codemirror_mode": {
    "name": "ipython",
    "version": 3
   },
   "file_extension": ".py",
   "mimetype": "text/x-python",
   "name": "python",
   "nbconvert_exporter": "python",
   "pygments_lexer": "ipython3",
   "version": "3.10.11"
  }
 },
 "nbformat": 4,
 "nbformat_minor": 5
}
